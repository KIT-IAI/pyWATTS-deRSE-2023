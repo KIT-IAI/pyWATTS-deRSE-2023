{
 "cells": [
  {
   "cell_type": "markdown",
   "source": [
    "# The Probabilistic Profile Neural Network\n",
    "This notebook contains code to replicate the results of ProbPNN realised in a non-sequential machine learning pipeline demonstrated at deRSE-2023. This code is based on the following paper:\n",
    ">Benedikt Heidrich, Kaleb Phipps, Oliver Neumann, Marian Turowski, Ralf Mikut, and Veit Hagenmeyer. 2023. ProbPNN: Enhancing Deep Probabilistic Forecasting with Statistical Information. arXiv:2302.02597\n",
    "\n",
    "<br/>\n",
    "\n",
    "### What is the ProbPNN\n",
    "Before getting to the code lets briefly look at the ProbPNN. The fundamental assumption behind the ProbPNN is that many time series exhibit calendar driven periodicities which we can use to our advantage to improve forecasting performance. For example, a time series modelling traffic congestion will probably show a strong daily periodicity, with peaks for the rush-hour in the morning and evening as commuters travel to and from work. Furthermore, this traffic congestion time series will show a weekly periodicity when the majority of commuters do not travel to work on the weekend leading to less congestion on Saturday and Sunday. You can observe periodicites in many other time series.\n",
    "\n",
    "The ProbPNN takes advantage of these calendar periodicites and uses statistical information to improve probabilistic forecasts:\n",
    "- We calculate a rolling average and rolling variance by statistically grouping the time series using calendar information.\n",
    "- This grouping works by considering values that are \"similar\" according to their calendar information when calculating the statistics, for example the statistics calculated for Monday noon are calculated by considering the values at noon on previous working days. Similarly, the statistics for midnight on saturday are calculated by considering midnight values for previous weekends.\n",
    "- As a result, we implicitly include the calender-driven periodicites in this statistical information.\n",
    "\n",
    "This statistical information is not the entire story though:\n",
    "- The ProbPNN also includes a trend component which predicts the expected value and expected error of the time series trend.\n",
    "- It also includes a colourful noise component which encodes the historical data and exogenous features and predicts the expected value and expected error of this colourful noise.\n",
    "\n",
    "To creat the final probabilistic forecast:\n",
    "- All three components are aggregated and the ProbPNN delivers a final expected value and expected error prediction.\n",
    "- We then assume a normal distribution and plug in the predicted value and expected error as parameters of this normal distribution.\n",
    "- This normal prediction serves as the basis for the final probabilistic forecast as we simply calculate the quantiles of this distribution as the final output of the ProbPNN.\n",
    "\n",
    "A far more detailed explanation of the ProbPNN can be found in our paper mentioned above - for now lets focus on the pipeline used to implement it."
   ],
   "metadata": {
    "collapsed": false,
    "pycharm": {
     "name": "#%% md\n"
    }
   }
  },
  {
   "cell_type": "markdown",
   "source": [
    "### Setting up the Pipeline\n",
    "TODO - Describe the pipeline in more detail once the code is there"
   ],
   "metadata": {
    "collapsed": false,
    "pycharm": {
     "name": "#%% md\n"
    }
   }
  },
  {
   "cell_type": "code",
   "execution_count": null,
   "outputs": [],
   "source": [
    "## Insert Code Here"
   ],
   "metadata": {
    "collapsed": false,
    "pycharm": {
     "name": "#%%\n"
    }
   }
  },
  {
   "cell_type": "markdown",
   "source": [
    "### Reading in the Data\n",
    "TODO - Describe the data in more detail once the code is there"
   ],
   "metadata": {
    "collapsed": false,
    "pycharm": {
     "name": "#%% md\n"
    }
   }
  },
  {
   "cell_type": "code",
   "execution_count": null,
   "outputs": [],
   "source": [
    "## Insert Code Here"
   ],
   "metadata": {
    "collapsed": false,
    "pycharm": {
     "name": "#%%\n"
    }
   }
  },
  {
   "cell_type": "markdown",
   "source": [
    "### Training the Pipeline\n",
    "TODO - Describe the training process in more detail once the code is there"
   ],
   "metadata": {
    "collapsed": false,
    "pycharm": {
     "name": "#%% md\n"
    }
   }
  },
  {
   "cell_type": "code",
   "execution_count": null,
   "outputs": [],
   "source": [
    "## Insert Code Here"
   ],
   "metadata": {
    "collapsed": false,
    "pycharm": {
     "name": "#%%\n"
    }
   }
  },
  {
   "cell_type": "markdown",
   "source": [
    "### Testing the pipeline\n",
    "TODO - Describe the testing process and results in more detail once the code is there"
   ],
   "metadata": {
    "collapsed": false,
    "pycharm": {
     "name": "#%% md\n"
    }
   }
  },
  {
   "cell_type": "code",
   "execution_count": null,
   "outputs": [],
   "source": [
    "## Insert Code Here"
   ],
   "metadata": {
    "collapsed": false,
    "pycharm": {
     "name": "#%%\n"
    }
   }
  },
  {
   "cell_type": "markdown",
   "source": [
    "We hope you found this example interesting. If you have any questions please don't hesitate to contact us at [pywatts-team@iai.kit.edu](mailto:pywatts-team@iai.kit.edu)"
   ],
   "metadata": {
    "collapsed": false,
    "pycharm": {
     "name": "#%% md\n"
    }
   }
  }
 ],
 "metadata": {
  "kernelspec": {
   "display_name": "Python 3",
   "language": "python",
   "name": "python3"
  },
  "language_info": {
   "codemirror_mode": {
    "name": "ipython",
    "version": 2
   },
   "file_extension": ".py",
   "mimetype": "text/x-python",
   "name": "python",
   "nbconvert_exporter": "python",
   "pygments_lexer": "ipython2",
   "version": "2.7.6"
  }
 },
 "nbformat": 4,
 "nbformat_minor": 0
}