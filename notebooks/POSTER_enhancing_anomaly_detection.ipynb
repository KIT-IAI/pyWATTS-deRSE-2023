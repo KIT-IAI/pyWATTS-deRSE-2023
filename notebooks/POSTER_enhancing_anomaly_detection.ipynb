{
 "cells": [
  {
   "cell_type": "markdown",
   "source": [
    "## Enhancing Anomaly Detection Methods for Energy Time Series Using Latent Space Data Representations\n",
    "This notebook contains code to replicate the results of the non-sequential machine learning pipeline demonstrated at deRSE-2023 for enhancing anomaly detection. This code is based on the following paper:\n",
    ">M. Turowski, B. Heidrich, K. Phipps, K. Schmieder, O. Neumann, R. Mikut, and V. Hagenmeyer, 2022, \"Enhancing Anomaly Detection Methods for Energy Time Series Using Latent Space Data Representations,\" in The Thirteenth ACM International Conference on Future Energy Systems (e-Energy ’22). ACM, pp. 208–227. doi: [10.1145/3538637.3538851](https://doi.org/10.1145/3538637.3538851).\n",
    "\n",
    "\n",
    "<br/>\n",
    "\n",
    "### How Does Our Approach Work?\n",
    "Before explaining the pipeline used to enhance anomaly detection methods, lets take a brief look at how the approach actually works. Basically, the main assumption of the approach is that a latent space data representation of time series can be advantageous for detecting anomalies. We assume, that time series samples containing anomalies can be better separated from non-anomalous time series samples in a latent space data representation. If this is true, then existing anomaly detection methods should perform better on the latent space data representation of the time series.\n",
    "\n",
    "Therefore, our approach first involves creating a latent space data representation of the time series:\n",
    "- We create this representation with a conditional Invertible Neural Network (cINN).\n",
    "- The cINN is trained on anomaly free data to only learn \"normal\" behavior.\n",
    "\n",
    "Given this trained cINN, we perform anomaly detection as follows:\n",
    "- We use a time series segment possibly containing anomalies an input in the cINN to create a latent space representation of this time series.\n",
    "- We apply existing anomaly detection methods directly to this latent space representation of the time series segment.\n",
    "- The anomaly detection method returns a binary output indicating whether the time series segment considered contains anomalies or not.\n",
    "\n",
    "In our paper we also considered a conditional Variational Autoencoder (cVAE) as an alternative generative model to create the latent space data representation. Furthermore, we also included an extension to perform unsupervised anomaly detection. In this example for the deRSE23 we are going to stick to a simple example though, and just consider the cINN in a supervised setting."
   ],
   "metadata": {
    "collapsed": false,
    "pycharm": {
     "name": "#%% md\n"
    }
   }
  },
  {
   "cell_type": "markdown",
   "source": [
    "### Setting up the Pipeline\n",
    "TODO - Describe the pipeline in more detail once the code is there"
   ],
   "metadata": {
    "collapsed": false,
    "pycharm": {
     "name": "#%% md\n"
    }
   }
  },
  {
   "cell_type": "code",
   "execution_count": null,
   "outputs": [],
   "source": [
    "## Insert Code Here"
   ],
   "metadata": {
    "collapsed": false,
    "pycharm": {
     "name": "#%%\n"
    }
   }
  },
  {
   "cell_type": "markdown",
   "source": [
    "### Reading in the Data\n",
    "TODO - Describe the data in more detail once the code is there"
   ],
   "metadata": {
    "collapsed": false,
    "pycharm": {
     "name": "#%% md\n"
    }
   }
  },
  {
   "cell_type": "code",
   "execution_count": null,
   "outputs": [],
   "source": [
    "## Insert Code Here"
   ],
   "metadata": {
    "collapsed": false,
    "pycharm": {
     "name": "#%%\n"
    }
   }
  },
  {
   "cell_type": "markdown",
   "source": [
    "### Training the Pipeline\n",
    "TODO - Describe the training process in more detail once the code is there"
   ],
   "metadata": {
    "collapsed": false,
    "pycharm": {
     "name": "#%% md\n"
    }
   }
  },
  {
   "cell_type": "code",
   "execution_count": null,
   "outputs": [],
   "source": [
    "## Insert Code Here"
   ],
   "metadata": {
    "collapsed": false,
    "pycharm": {
     "name": "#%%\n"
    }
   }
  },
  {
   "cell_type": "markdown",
   "source": [
    "### Testing the pipeline\n",
    "TODO - Describe the testing process and results in more detail once the code is there"
   ],
   "metadata": {
    "collapsed": false,
    "pycharm": {
     "name": "#%% md\n"
    }
   }
  },
  {
   "cell_type": "code",
   "execution_count": null,
   "outputs": [],
   "source": [
    "## Insert Code Here"
   ],
   "metadata": {
    "collapsed": false,
    "pycharm": {
     "name": "#%%\n"
    }
   }
  },
  {
   "cell_type": "markdown",
   "source": [
    "We hope you found this example interesting. If you have any questions please don't hesitate to contact us at [pywatts-team@iai.kit.edu](mailto:pywatts-team@iai.kit.edu)"
   ],
   "metadata": {
    "collapsed": false,
    "pycharm": {
     "name": "#%% md\n"
    }
   }
  }
 ],
 "metadata": {
  "kernelspec": {
   "display_name": "Python 3",
   "language": "python",
   "name": "python3"
  },
  "language_info": {
   "codemirror_mode": {
    "name": "ipython",
    "version": 2
   },
   "file_extension": ".py",
   "mimetype": "text/x-python",
   "name": "python",
   "nbconvert_exporter": "python",
   "pygments_lexer": "ipython2",
   "version": "2.7.6"
  }
 },
 "nbformat": 4,
 "nbformat_minor": 0
}