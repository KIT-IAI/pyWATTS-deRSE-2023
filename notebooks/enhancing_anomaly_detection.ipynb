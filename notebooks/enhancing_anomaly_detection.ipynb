{
 "cells": [
  {
   "cell_type": "markdown",
   "source": [
    "## Enhancing Anomaly Detection Methods for Energy Time Series Using Latent Space Data Representations\n",
    "This notebook contains code to replicate the results of the non-sequential machine learning pipeline demonstrated at deRSE-2023 for enhancing anomaly detection. This code is based on the following paper:\n",
    ">M. Turowski, B. Heidrich, K. Phipps, K. Schmieder, O. Neumann, R. Mikut, and V. Hagenmeyer, 2022, \"Enhancing Anomaly Detection Methods for Energy Time Series Using Latent Space Data Representations,\" in The Thirteenth ACM International Conference on Future Energy Systems (e-Energy ’22). ACM, pp. 208–227. doi: [10.1145/3538637.3538851](https://doi.org/10.1145/3538637.3538851)."
   ],
   "metadata": {
    "collapsed": false,
    "pycharm": {
     "name": "#%% md\n"
    }
   }
  }
 ],
 "metadata": {
  "kernelspec": {
   "display_name": "Python 3",
   "language": "python",
   "name": "python3"
  },
  "language_info": {
   "codemirror_mode": {
    "name": "ipython",
    "version": 2
   },
   "file_extension": ".py",
   "mimetype": "text/x-python",
   "name": "python",
   "nbconvert_exporter": "python",
   "pygments_lexer": "ipython2",
   "version": "2.7.6"
  }
 },
 "nbformat": 4,
 "nbformat_minor": 0
}