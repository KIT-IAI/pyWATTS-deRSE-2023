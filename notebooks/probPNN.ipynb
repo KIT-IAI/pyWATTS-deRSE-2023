{
 "cells": [
  {
   "cell_type": "markdown",
   "source": [
    "## The Probabilistic Profile Neural Network\n",
    "This notebook contains code to replicate the results of ProbPNN realised in a non-sequential machine learning pipeline demonstrated at deRSE-2023. This code is based on the following paper:\n",
    ">Benedikt Heidrich, Kaleb Phipps, Oliver Neumann, Marian Turowski, Ralf Mikut, and Veit Hagenmeyer. 2023. ProbPNN: Enhancing Deep Probabilistic Forecasting with Statistical Information. arXiv:2302.02597"
   ],
   "metadata": {
    "collapsed": false,
    "pycharm": {
     "name": "#%% md\n"
    }
   }
  }
 ],
 "metadata": {
  "kernelspec": {
   "display_name": "Python 3",
   "language": "python",
   "name": "python3"
  },
  "language_info": {
   "codemirror_mode": {
    "name": "ipython",
    "version": 2
   },
   "file_extension": ".py",
   "mimetype": "text/x-python",
   "name": "python",
   "nbconvert_exporter": "python",
   "pygments_lexer": "ipython2",
   "version": "2.7.6"
  }
 },
 "nbformat": 4,
 "nbformat_minor": 0
}